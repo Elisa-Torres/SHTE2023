{
  "nbformat": 4,
  "nbformat_minor": 0,
  "metadata": {
    "colab": {
      "provenance": [],
      "include_colab_link": true
    },
    "kernelspec": {
      "name": "python3",
      "display_name": "Python 3"
    },
    "language_info": {
      "name": "python"
    }
  },
  "cells": [
    {
      "cell_type": "markdown",
      "metadata": {
        "id": "view-in-github",
        "colab_type": "text"
      },
      "source": [
        "<a href=\"https://colab.research.google.com/github/Elisa-Torres/SHTE2023/blob/main/Elisa_PapayaLabW3_SelfLearningIntro.ipynb\" target=\"_parent\"><img src=\"https://colab.research.google.com/assets/colab-badge.svg\" alt=\"Open In Colab\"/></a>"
      ]
    },
    {
      "cell_type": "code",
      "execution_count": null,
      "metadata": {
        "colab": {
          "base_uri": "https://localhost:8080/"
        },
        "id": "RtoIdB161a4v",
        "outputId": "f2e1eefd-68b4-483b-b5bb-baf3b908cb7e"
      },
      "outputs": [
        {
          "output_type": "stream",
          "name": "stdout",
          "text": [
            "Mounted at /content/drive/\n"
          ]
        }
      ],
      "source": [
        "import numpy as np\n",
        "import matplotlib.pyplot as plt\n",
        "import time\n",
        "import os\n",
        "import PIL\n",
        "import scipy\n",
        "import tensorflow as tf\n",
        "from google.colab import drive\n",
        "drive.mount('/content/drive/')\n",
        "loc = 'drive/MyDrive/Shtem2023/'"
      ]
    },
    {
      "cell_type": "code",
      "source": [
        "(x_train, y_train), (x_test, y_test) = tf.keras.datasets.cifar10.load_data()"
      ],
      "metadata": {
        "id": "mddashbJXVGW",
        "colab": {
          "base_uri": "https://localhost:8080/"
        },
        "outputId": "5350c474-2363-4bfa-d72d-e202915a97cd"
      },
      "execution_count": null,
      "outputs": [
        {
          "output_type": "stream",
          "name": "stdout",
          "text": [
            "Downloading data from https://www.cs.toronto.edu/~kriz/cifar-10-python.tar.gz\n",
            "170498071/170498071 [==============================] - 3s 0us/step\n"
          ]
        }
      ]
    },
    {
      "cell_type": "code",
      "source": [
        "os.listdir(loc+'all_data')"
      ],
      "metadata": {
        "id": "x1_D7cDSy0lu"
      },
      "execution_count": null,
      "outputs": []
    },
    {
      "cell_type": "code",
      "source": [
        "np.save(loc+'all_data/cifar10X.npy',x_train[:8000])\n",
        "np.save(loc+'all_data/cifar10Y.npy',y_train[:8000])"
      ],
      "metadata": {
        "id": "wEAjNqoIy7P5"
      },
      "execution_count": null,
      "outputs": []
    },
    {
      "cell_type": "code",
      "source": [
        "print(x_train.shape,y_train.shape)"
      ],
      "metadata": {
        "colab": {
          "base_uri": "https://localhost:8080/"
        },
        "id": "uosEAIgJC0Xx",
        "outputId": "37414396-3979-4629-eb2b-21b2ef8cd1cf"
      },
      "execution_count": null,
      "outputs": [
        {
          "output_type": "stream",
          "name": "stdout",
          "text": [
            "(50000, 32, 32, 3) (50000, 1)\n"
          ]
        }
      ]
    },
    {
      "cell_type": "code",
      "source": [
        "print('\\nX:\\n',x_train,'\\nY:\\n', y_train)"
      ],
      "metadata": {
        "colab": {
          "base_uri": "https://localhost:8080/"
        },
        "id": "oFaF2EIdDBLj",
        "outputId": "60f01812-1ca5-483c-81d9-fb12e8571029"
      },
      "execution_count": null,
      "outputs": [
        {
          "output_type": "stream",
          "name": "stdout",
          "text": [
            "\n",
            "X:\n",
            " [[[[ 59  62  63]\n",
            "   [ 43  46  45]\n",
            "   [ 50  48  43]\n",
            "   ...\n",
            "   [158 132 108]\n",
            "   [152 125 102]\n",
            "   [148 124 103]]\n",
            "\n",
            "  [[ 16  20  20]\n",
            "   [  0   0   0]\n",
            "   [ 18   8   0]\n",
            "   ...\n",
            "   [123  88  55]\n",
            "   [119  83  50]\n",
            "   [122  87  57]]\n",
            "\n",
            "  [[ 25  24  21]\n",
            "   [ 16   7   0]\n",
            "   [ 49  27   8]\n",
            "   ...\n",
            "   [118  84  50]\n",
            "   [120  84  50]\n",
            "   [109  73  42]]\n",
            "\n",
            "  ...\n",
            "\n",
            "  [[208 170  96]\n",
            "   [201 153  34]\n",
            "   [198 161  26]\n",
            "   ...\n",
            "   [160 133  70]\n",
            "   [ 56  31   7]\n",
            "   [ 53  34  20]]\n",
            "\n",
            "  [[180 139  96]\n",
            "   [173 123  42]\n",
            "   [186 144  30]\n",
            "   ...\n",
            "   [184 148  94]\n",
            "   [ 97  62  34]\n",
            "   [ 83  53  34]]\n",
            "\n",
            "  [[177 144 116]\n",
            "   [168 129  94]\n",
            "   [179 142  87]\n",
            "   ...\n",
            "   [216 184 140]\n",
            "   [151 118  84]\n",
            "   [123  92  72]]]\n",
            "\n",
            "\n",
            " [[[154 177 187]\n",
            "   [126 137 136]\n",
            "   [105 104  95]\n",
            "   ...\n",
            "   [ 91  95  71]\n",
            "   [ 87  90  71]\n",
            "   [ 79  81  70]]\n",
            "\n",
            "  [[140 160 169]\n",
            "   [145 153 154]\n",
            "   [125 125 118]\n",
            "   ...\n",
            "   [ 96  99  78]\n",
            "   [ 77  80  62]\n",
            "   [ 71  73  61]]\n",
            "\n",
            "  [[140 155 164]\n",
            "   [139 146 149]\n",
            "   [115 115 112]\n",
            "   ...\n",
            "   [ 79  82  64]\n",
            "   [ 68  70  55]\n",
            "   [ 67  69  55]]\n",
            "\n",
            "  ...\n",
            "\n",
            "  [[175 167 166]\n",
            "   [156 154 160]\n",
            "   [154 160 170]\n",
            "   ...\n",
            "   [ 42  34  36]\n",
            "   [ 61  53  57]\n",
            "   [ 93  83  91]]\n",
            "\n",
            "  [[165 154 128]\n",
            "   [156 152 130]\n",
            "   [159 161 142]\n",
            "   ...\n",
            "   [103  93  96]\n",
            "   [123 114 120]\n",
            "   [131 121 131]]\n",
            "\n",
            "  [[163 148 120]\n",
            "   [158 148 122]\n",
            "   [163 156 133]\n",
            "   ...\n",
            "   [143 133 139]\n",
            "   [143 134 142]\n",
            "   [143 133 144]]]\n",
            "\n",
            "\n",
            " [[[255 255 255]\n",
            "   [253 253 253]\n",
            "   [253 253 253]\n",
            "   ...\n",
            "   [253 253 253]\n",
            "   [253 253 253]\n",
            "   [253 253 253]]\n",
            "\n",
            "  [[255 255 255]\n",
            "   [255 255 255]\n",
            "   [255 255 255]\n",
            "   ...\n",
            "   [255 255 255]\n",
            "   [255 255 255]\n",
            "   [255 255 255]]\n",
            "\n",
            "  [[255 255 255]\n",
            "   [254 254 254]\n",
            "   [254 254 254]\n",
            "   ...\n",
            "   [254 254 254]\n",
            "   [254 254 254]\n",
            "   [254 254 254]]\n",
            "\n",
            "  ...\n",
            "\n",
            "  [[113 120 112]\n",
            "   [111 118 111]\n",
            "   [105 112 106]\n",
            "   ...\n",
            "   [ 72  81  80]\n",
            "   [ 72  80  79]\n",
            "   [ 72  80  79]]\n",
            "\n",
            "  [[111 118 110]\n",
            "   [104 111 104]\n",
            "   [ 99 106  98]\n",
            "   ...\n",
            "   [ 68  75  73]\n",
            "   [ 70  76  75]\n",
            "   [ 78  84  82]]\n",
            "\n",
            "  [[106 113 105]\n",
            "   [ 99 106  98]\n",
            "   [ 95 102  94]\n",
            "   ...\n",
            "   [ 78  85  83]\n",
            "   [ 79  85  83]\n",
            "   [ 80  86  84]]]\n",
            "\n",
            "\n",
            " ...\n",
            "\n",
            "\n",
            " [[[ 35 178 235]\n",
            "   [ 40 176 239]\n",
            "   [ 42 176 241]\n",
            "   ...\n",
            "   [ 99 177 219]\n",
            "   [ 79 147 197]\n",
            "   [ 89 148 189]]\n",
            "\n",
            "  [[ 57 182 234]\n",
            "   [ 44 184 250]\n",
            "   [ 50 183 240]\n",
            "   ...\n",
            "   [156 182 200]\n",
            "   [141 177 206]\n",
            "   [116 149 175]]\n",
            "\n",
            "  [[ 98 197 237]\n",
            "   [ 64 189 252]\n",
            "   [ 69 192 245]\n",
            "   ...\n",
            "   [188 195 206]\n",
            "   [119 135 147]\n",
            "   [ 61  79  90]]\n",
            "\n",
            "  ...\n",
            "\n",
            "  [[ 73  79  77]\n",
            "   [ 53  63  68]\n",
            "   [ 54  68  80]\n",
            "   ...\n",
            "   [ 17  40  64]\n",
            "   [ 21  36  51]\n",
            "   [ 33  48  49]]\n",
            "\n",
            "  [[ 61  68  75]\n",
            "   [ 55  70  86]\n",
            "   [ 57  79 103]\n",
            "   ...\n",
            "   [ 24  48  72]\n",
            "   [ 17  35  53]\n",
            "   [  7  23  32]]\n",
            "\n",
            "  [[ 44  56  73]\n",
            "   [ 46  66  88]\n",
            "   [ 49  77 105]\n",
            "   ...\n",
            "   [ 27  52  77]\n",
            "   [ 21  43  66]\n",
            "   [ 12  31  50]]]\n",
            "\n",
            "\n",
            " [[[189 211 240]\n",
            "   [186 208 236]\n",
            "   [185 207 235]\n",
            "   ...\n",
            "   [175 195 224]\n",
            "   [172 194 222]\n",
            "   [169 194 220]]\n",
            "\n",
            "  [[194 210 239]\n",
            "   [191 207 236]\n",
            "   [190 206 235]\n",
            "   ...\n",
            "   [173 192 220]\n",
            "   [171 191 218]\n",
            "   [167 190 216]]\n",
            "\n",
            "  [[208 219 244]\n",
            "   [205 216 240]\n",
            "   [204 215 239]\n",
            "   ...\n",
            "   [175 191 217]\n",
            "   [172 190 216]\n",
            "   [169 191 215]]\n",
            "\n",
            "  ...\n",
            "\n",
            "  [[207 199 181]\n",
            "   [203 195 175]\n",
            "   [203 196 173]\n",
            "   ...\n",
            "   [135 132 127]\n",
            "   [162 158 150]\n",
            "   [168 163 151]]\n",
            "\n",
            "  [[198 190 170]\n",
            "   [189 181 159]\n",
            "   [180 172 147]\n",
            "   ...\n",
            "   [178 171 160]\n",
            "   [175 169 156]\n",
            "   [175 169 154]]\n",
            "\n",
            "  [[198 189 173]\n",
            "   [189 181 162]\n",
            "   [178 170 149]\n",
            "   ...\n",
            "   [195 184 169]\n",
            "   [196 189 171]\n",
            "   [195 190 171]]]\n",
            "\n",
            "\n",
            " [[[229 229 239]\n",
            "   [236 237 247]\n",
            "   [234 236 247]\n",
            "   ...\n",
            "   [217 219 233]\n",
            "   [221 223 234]\n",
            "   [222 223 233]]\n",
            "\n",
            "  [[222 221 229]\n",
            "   [239 239 249]\n",
            "   [233 234 246]\n",
            "   ...\n",
            "   [223 223 236]\n",
            "   [227 228 238]\n",
            "   [210 211 220]]\n",
            "\n",
            "  [[213 206 211]\n",
            "   [234 232 239]\n",
            "   [231 233 244]\n",
            "   ...\n",
            "   [220 220 232]\n",
            "   [220 219 232]\n",
            "   [202 203 215]]\n",
            "\n",
            "  ...\n",
            "\n",
            "  [[150 143 135]\n",
            "   [140 135 127]\n",
            "   [132 127 120]\n",
            "   ...\n",
            "   [224 222 218]\n",
            "   [230 228 225]\n",
            "   [241 241 238]]\n",
            "\n",
            "  [[137 132 126]\n",
            "   [130 127 120]\n",
            "   [125 121 115]\n",
            "   ...\n",
            "   [181 180 178]\n",
            "   [202 201 198]\n",
            "   [212 211 207]]\n",
            "\n",
            "  [[122 119 114]\n",
            "   [118 116 110]\n",
            "   [120 116 111]\n",
            "   ...\n",
            "   [179 177 173]\n",
            "   [164 164 162]\n",
            "   [163 163 161]]]] \n",
            "Y:\n",
            " [[6]\n",
            " [9]\n",
            " [9]\n",
            " ...\n",
            " [9]\n",
            " [1]\n",
            " [1]]\n"
          ]
        }
      ]
    },
    {
      "cell_type": "code",
      "source": [
        "plt.imshow(x_train[1111])"
      ],
      "metadata": {
        "colab": {
          "base_uri": "https://localhost:8080/",
          "height": 447
        },
        "id": "Kl5YgMeZCwG4",
        "outputId": "5b4a15f0-4b1f-410f-9c92-4028c5bd7b90"
      },
      "execution_count": null,
      "outputs": [
        {
          "output_type": "execute_result",
          "data": {
            "text/plain": [
              "<matplotlib.image.AxesImage at 0x7f752072e770>"
            ]
          },
          "metadata": {},
          "execution_count": 5
        },
        {
          "output_type": "display_data",
          "data": {
            "text/plain": [
              "<Figure size 640x480 with 1 Axes>"
            ],
            "image/png": "[encoded data removed]"
          },
          "metadata": {}
        }
      ]
    },
    {
      "cell_type": "code",
      "source": [
        "print(y_train[1111])"
      ],
      "metadata": {
        "id": "q1bLsQpy4hfQ",
        "colab": {
          "base_uri": "https://localhost:8080/"
        },
        "outputId": "2f48da85-ed94-401f-b079-67f26176641a"
      },
      "execution_count": null,
      "outputs": [
        {
          "output_type": "stream",
          "name": "stdout",
          "text": [
            "[5]\n"
          ]
        }
      ]
    },
    {
      "cell_type": "code",
      "source": [
        "cats = '''\n",
        "0\tairplane\n",
        "1\tautomobile\n",
        "2\tbird\n",
        "3\tcat\n",
        "4\tdeer\n",
        "5\tdog\n",
        "6\tfrog\n",
        "7\thorse\n",
        "8\tship\n",
        "9\ttruck\n",
        "'''"
      ],
      "metadata": {
        "id": "uoUig-Ec5AjH"
      },
      "execution_count": null,
      "outputs": []
    },
    {
      "cell_type": "code",
      "source": [
        "v_train = np.zeros((y_train.shape[0],10))\n",
        "for i in range(y_train.shape[0]):\n",
        "  v_train[i,y_train[i]] = 1"
      ],
      "metadata": {
        "id": "5VDDvrCTFh_B"
      },
      "execution_count": null,
      "outputs": []
    },
    {
      "cell_type": "code",
      "source": [
        "print(v_train)"
      ],
      "metadata": {
        "colab": {
          "base_uri": "https://localhost:8080/"
        },
        "id": "jUUOhKrxF9H3",
        "outputId": "061b5a63-0f42-4a0b-d815-8b784f2ceb86"
      },
      "execution_count": null,
      "outputs": [
        {
          "output_type": "stream",
          "name": "stdout",
          "text": [
            "[[0. 0. 0. ... 0. 0. 0.]\n",
            " [0. 0. 0. ... 0. 0. 1.]\n",
            " [0. 0. 0. ... 0. 0. 1.]\n",
            " ...\n",
            " [0. 0. 0. ... 0. 0. 1.]\n",
            " [0. 1. 0. ... 0. 0. 0.]\n",
            " [0. 1. 0. ... 0. 0. 0.]]\n"
          ]
        }
      ]
    },
    {
      "cell_type": "code",
      "source": [
        "print(v_train.shape)"
      ],
      "metadata": {
        "colab": {
          "base_uri": "https://localhost:8080/"
        },
        "id": "DDDRtHoXGFNM",
        "outputId": "37c8beb7-a212-454d-aa43-df57450873f1"
      },
      "execution_count": null,
      "outputs": [
        {
          "output_type": "stream",
          "name": "stdout",
          "text": [
            "(50000, 10)\n"
          ]
        }
      ]
    },
    {
      "cell_type": "code",
      "source": [
        "recs = {}\n",
        "for Ntrain in [64,256,1024,4096,16384]:\n",
        "  input_shape = x_train[0].shape\n",
        "  model = tf.keras.Sequential()\n",
        "  model.add(tf.keras.layers.Dense(units=5,input_shape=input_shape, activation = 'relu'))\n",
        "  model.add(tf.keras.layers.Dense(units=1, activation = 'relu'))\n",
        "  model.add(tf.keras.layers.Flatten())\n",
        "  model.add(tf.keras.layers.Dense(units=32, activation = 'relu'))\n",
        "  model.add(tf.keras.layers.Dense(units=10, activation = 'softmax'))\n",
        "\n",
        "  # after you create your model it's\n",
        "  # always a good habit to print out it's summary\n",
        "  model.summary()\n",
        "  # adam optimizer works pretty well for\n",
        "  # all kinds of problems and is a good starting point\n",
        "  model.compile(optimizer=tf.keras.optimizers.Adam(learning_rate=0.01),\n",
        "                # MAE error is good for\n",
        "                # numerical predictions\n",
        "                loss=tf.keras.losses.CategoricalCrossentropy())\n",
        "  losses = model.fit(x_train[:Ntrain], v_train[:Ntrain],\n",
        "                    # it will use 'batch_size' number\n",
        "                    # of examples per example\n",
        "                    batch_size=256,\n",
        "                    epochs=3,  # total epoch\n",
        "                    )\n",
        "  recs[Ntrain] = losses.history['loss']"
      ],
      "metadata": {
        "id": "Nj3fwxYP7iLS",
        "colab": {
          "base_uri": "https://localhost:8080/",
          "height": 565
        },
        "outputId": "ce9d7c90-915e-42b0-8df7-446164ed628c"
      },
      "execution_count": null,
      "outputs": [
        {
          "output_type": "stream",
          "name": "stdout",
          "text": [
            "Model: \"sequential\"\n",
            "_________________________________________________________________\n",
            " Layer (type)                Output Shape              Param #   \n",
            "=================================================================\n",
            " dense (Dense)               (None, 32, 32, 5)         20        \n",
            "                                                                 \n",
            " dense_1 (Dense)             (None, 32, 32, 1)         6         \n",
            "                                                                 \n",
            " flatten (Flatten)           (None, 1024)              0         \n",
            "                                                                 \n",
            " dense_2 (Dense)             (None, 32)                32800     \n",
            "                                                                 \n",
            " dense_3 (Dense)             (None, 10)                330       \n",
            "                                                                 \n",
            "=================================================================\n",
            "Total params: 33,156\n",
            "Trainable params: 33,156\n",
            "Non-trainable params: 0\n",
            "_________________________________________________________________\n"
          ]
        },
        {
          "output_type": "error",
          "ename": "NameError",
          "evalue": "ignored",
          "traceback": [
            "\u001b[0;31m---------------------------------------------------------------------------\u001b[0m",
            "\u001b[0;31mNameError\u001b[0m                                 Traceback (most recent call last)",
            "\u001b[0;32m<ipython-input-3-7b5c8a650fe4>\u001b[0m in \u001b[0;36m<cell line: 2>\u001b[0;34m()\u001b[0m\n\u001b[1;32m     18\u001b[0m                 \u001b[0;31m# numerical predictions\u001b[0m\u001b[0;34m\u001b[0m\u001b[0;34m\u001b[0m\u001b[0m\n\u001b[1;32m     19\u001b[0m                 loss=tf.keras.losses.CategoricalCrossentropy())\n\u001b[0;32m---> 20\u001b[0;31m   losses = model.fit(x_train[:Ntrain], v_train[:Ntrain],\n\u001b[0m\u001b[1;32m     21\u001b[0m                     \u001b[0;31m# it will use 'batch_size' number\u001b[0m\u001b[0;34m\u001b[0m\u001b[0;34m\u001b[0m\u001b[0m\n\u001b[1;32m     22\u001b[0m                     \u001b[0;31m# of examples per example\u001b[0m\u001b[0;34m\u001b[0m\u001b[0;34m\u001b[0m\u001b[0m\n",
            "\u001b[0;31mNameError\u001b[0m: name 'v_train' is not defined"
          ]
        }
      ]
    },
    {
      "cell_type": "code",
      "source": [
        "labels = []\n",
        "for Ntrain in recs:\n",
        "  plt.plot(np.log(recs[Ntrain]))\n",
        "  labels.append(str(Ntrain))\n",
        "plt.legend(labels)"
      ],
      "metadata": {
        "id": "OV6pVi4YLgYy",
        "colab": {
          "base_uri": "https://localhost:8080/",
          "height": 447
        },
        "outputId": "082e176f-50fa-4ce4-a504-99987c8b182c"
      },
      "execution_count": null,
      "outputs": [
        {
          "output_type": "execute_result",
          "data": {
            "text/plain": [
              "<matplotlib.legend.Legend at 0x7f751474fb80>"
            ]
          },
          "metadata": {},
          "execution_count": 12
        },
        {
          "output_type": "display_data",
          "data": {
            "text/plain": [
              "<Figure size 640x480 with 1 Axes>"
            ],
            "image/png": "[encoded data removed]"
          },
          "metadata": {}
        }
      ]
    },
    {
      "cell_type": "code",
      "source": [
        "pic = x_train[0]"
      ],
      "metadata": {
        "id": "bNkSd1aQJz11"
      },
      "execution_count": null,
      "outputs": []
    },
    {
      "cell_type": "code",
      "source": [
        "plt.imshow(pic)"
      ],
      "metadata": {
        "colab": {
          "base_uri": "https://localhost:8080/",
          "height": 447
        },
        "id": "Q61CxAJtrrVp",
        "outputId": "3156d877-7310-4835-abeb-df01813403f0"
      },
      "execution_count": null,
      "outputs": [
        {
          "output_type": "execute_result",
          "data": {
            "text/plain": [
              "<matplotlib.image.AxesImage at 0x7f7511d42d70>"
            ]
          },
          "metadata": {},
          "execution_count": 14
        },
        {
          "output_type": "display_data",
          "data": {
            "text/plain": [
              "<Figure size 640x480 with 1 Axes>"
            ],
            "image/png": "[encoded data removed]"
          },
          "metadata": {}
        }
      ]
    },
    {
      "cell_type": "code",
      "source": [
        "#auto-generating cropping dimensions to photo\n",
        "a = np.random.randint(0,32)\n",
        "b = np.random.randint(a+1,32)\n",
        "c = np.random.randint(0,32)\n",
        "d = np.random.randint(c+1,32)"
      ],
      "metadata": {
        "id": "E1IGpMRZr7-y"
      },
      "execution_count": null,
      "outputs": []
    },
    {
      "cell_type": "code",
      "source": [
        "pic2 = pic[2:30,5:27] #cropping\n",
        "pic3 = scipy.signal.resample(pic2, 32) #stretching\n",
        "pic4 = scipy.signal.resample(pic3, 32, axis = 1)\n",
        "plt.imshow(pic4/255)"
      ],
      "metadata": {
        "colab": {
          "base_uri": "https://localhost:8080/",
          "height": 465
        },
        "id": "Qc7MEaC3sR_n",
        "outputId": "851af4d2-bfcc-4277-c107-8e659b3e4dbe"
      },
      "execution_count": null,
      "outputs": [
        {
          "output_type": "stream",
          "name": "stderr",
          "text": [
            "WARNING:matplotlib.image:Clipping input data to the valid range for imshow with RGB data ([0..1] for floats or [0..255] for integers).\n"
          ]
        },
        {
          "output_type": "execute_result",
          "data": {
            "text/plain": [
              "<matplotlib.image.AxesImage at 0x7f74fd1bcf10>"
            ]
          },
          "metadata": {},
          "execution_count": 32
        },
        {
          "output_type": "display_data",
          "data": {
            "text/plain": [
              "<Figure size 640x480 with 1 Axes>"
            ],
            "image/png": "[encoded data removed]"
          },
          "metadata": {}
        }
      ]
    },
    {
      "cell_type": "code",
      "source": [
        "#flipping image on the x-axis\n",
        "pic= x_train[0]\n",
        "plt.imshow(pic)\n",
        "plt.show()\n",
        "pic2 = np.zeros_like(pic)\n",
        "for i in range(32):\n",
        "  pic2[i,:] = pic[32-i-1]\n",
        "plt.imshow(pic2)"
      ],
      "metadata": {
        "colab": {
          "base_uri": "https://localhost:8080/",
          "height": 860
        },
        "id": "FpWcKAObyk3P",
        "outputId": "82c21b27-3215-493b-addf-311806cd7506"
      },
      "execution_count": null,
      "outputs": [
        {
          "output_type": "display_data",
          "data": {
            "text/plain": [
              "<Figure size 640x480 with 1 Axes>"
            ],
            "image/png": "[encoded data removed]"
          },
          "metadata": {}
        },
        {
          "output_type": "execute_result",
          "data": {
            "text/plain": [
              "<matplotlib.image.AxesImage at 0x7f74fd5b9270>"
            ]
          },
          "metadata": {},
          "execution_count": 33
        },
        {
          "output_type": "display_data",
          "data": {
            "text/plain": [
              "<Figure size 640x480 with 1 Axes>"
            ],
            "image/png": "[encoded data removed]"
          },
          "metadata": {}
        }
      ]
    },
    {
      "cell_type": "code",
      "source": [
        "#flipping image on the y-axis"
      ],
      "metadata": {
        "id": "NkjzSiaeyoY8"
      },
      "execution_count": null,
      "outputs": []
    },
    {
      "cell_type": "code",
      "source": [
        "input_shape = x_train[0].shape\n",
        "model = tf.keras.Sequential()\n",
        "model.add(tf.keras.layers.Conv2D(4, 7, activation='relu', input_shape=input_shape))\n",
        "model.add(tf.keras.layers.Conv2D(4, 3, activation='relu', input_shape=input_shape))\n",
        "model.add(tf.keras.layers.Conv2D(2, 3, activation='relu', input_shape=input_shape))\n",
        "model.add(tf.keras.layers.Dense(units=5, activation = 'relu'))\n",
        "model.add(tf.keras.layers.Dense(units=1, activation = 'relu'))\n",
        "model.add(tf.keras.layers.Flatten())\n",
        "model.add(tf.keras.layers.Dense(units=32, activation = 'relu'))\n",
        "model.add(tf.keras.layers.Dense(units=10, activation = 'softmax'))\n",
        "\n",
        "# after you create your model it's\n",
        "# always a good habit to print out it's summary\n",
        "model.summary()\n",
        "# adam optimizer works pretty well for\n",
        "# all kinds of problems and is a good starting point\n",
        "model.compile(optimizer=tf.keras.optimizers.Adam(learning_rate=0.01),\n",
        "              # MAE error is good for\n",
        "              # numerical predictions\n",
        "              loss=tf.keras.losses.CategoricalCrossentropy())\n",
        "losses = model.fit(x_train[:Ntrain], v_train[:Ntrain],\n",
        "                  # it will use 'batch_size' number\n",
        "                  # of examples per example\n",
        "                  batch_size=256,\n",
        "                  epochs=3,  # total epoch\n",
        "                  )\n",
        "recs[Ntrain] = losses.history['loss']\n"
      ],
      "metadata": {
        "colab": {
          "base_uri": "https://localhost:8080/"
        },
        "id": "MvPUlw1ox0G2",
        "outputId": "844ab1eb-8318-46a6-b4e8-ae51dae79bbd"
      },
      "execution_count": null,
      "outputs": [
        {
          "output_type": "stream",
          "name": "stdout",
          "text": [
            "Model: \"sequential_5\"\n",
            "_________________________________________________________________\n",
            " Layer (type)                Output Shape              Param #   \n",
            "=================================================================\n",
            " conv2d_8 (Conv2D)           (None, 26, 26, 4)         592       \n",
            "                                                                 \n",
            " conv2d_9 (Conv2D)           (None, 24, 24, 4)         148       \n",
            "                                                                 \n",
            " conv2d_10 (Conv2D)          (None, 22, 22, 2)         74        \n",
            "                                                                 \n",
            " dense_20 (Dense)            (None, 22, 22, 5)         15        \n",
            "                                                                 \n",
            " dense_21 (Dense)            (None, 22, 22, 1)         6         \n",
            "                                                                 \n",
            " flatten_5 (Flatten)         (None, 484)               0         \n",
            "                                                                 \n",
            " dense_22 (Dense)            (None, 32)                15520     \n",
            "                                                                 \n",
            " dense_23 (Dense)            (None, 10)                330       \n",
            "                                                                 \n",
            "=================================================================\n",
            "Total params: 16,685\n",
            "Trainable params: 16,685\n",
            "Non-trainable params: 0\n",
            "_________________________________________________________________\n",
            "Epoch 1/3\n",
            "1/1 [==============================] - 1s 1s/step - loss: 2.3026\n",
            "Epoch 2/3\n",
            "1/1 [==============================] - 0s 53ms/step - loss: 2.2991\n",
            "Epoch 3/3\n",
            "1/1 [==============================] - 0s 52ms/step - loss: 2.2957\n"
          ]
        }
      ]
    },
    {
      "cell_type": "code",
      "source": [
        "os.listdir(loc + 'Covid')"
      ],
      "metadata": {
        "id": "zTS3qrErkMS6"
      },
      "execution_count": null,
      "outputs": []
    },
    {
      "cell_type": "code",
      "source": [
        "Xlist = []\n",
        "for filename in os.listdir(loc+'Covid')[:]:\n",
        "  img = PIL.Image.open(loc+'Covid/'+filename)\n",
        "  img2 = img.resize((300,300))\n",
        "  img3 = img2.convert('RGB')\n",
        "  arr = np.array(img3)\n",
        "  Xlist.append(arr)\n",
        "  print(arr.shape)"
      ],
      "metadata": {
        "id": "TU0ac0xvkZF7"
      },
      "execution_count": null,
      "outputs": []
    },
    {
      "cell_type": "code",
      "source": [
        "Xlist[3].shape"
      ],
      "metadata": {
        "colab": {
          "base_uri": "https://localhost:8080/"
        },
        "id": "SRVD9CYh533s",
        "outputId": "bb505142-c2a4-46fb-c5ac-ceba3534c7f1"
      },
      "execution_count": null,
      "outputs": [
        {
          "output_type": "execute_result",
          "data": {
            "text/plain": [
              "(300, 300, 3)"
            ]
          },
          "metadata": {},
          "execution_count": 13
        }
      ]
    },
    {
      "cell_type": "code",
      "source": [
        "X = np.asarray(Xlist)\n",
        "print(X.shape)"
      ],
      "metadata": {
        "colab": {
          "base_uri": "https://localhost:8080/"
        },
        "id": "UfzzlgSqkd42",
        "outputId": "bce29c4a-f21d-4ce0-8883-10582204aca0"
      },
      "execution_count": null,
      "outputs": [
        {
          "output_type": "stream",
          "name": "stdout",
          "text": [
            "(111, 300, 300, 3)\n"
          ]
        }
      ]
    },
    {
      "cell_type": "code",
      "source": [
        "Ylist = []\n",
        "numCat = 2\n",
        "for filename in os.listdir(loc+'Covid'):\n",
        "  if 'COVID' in filename:\n",
        "    label = [1,0]\n",
        "  else :\n",
        "    label = [0,1]\n",
        "  Ylist.append(label)"
      ],
      "metadata": {
        "id": "36DBRnPNkgwX"
      },
      "execution_count": null,
      "outputs": []
    },
    {
      "cell_type": "code",
      "source": [
        "print(os.listdir(loc+'Covid'))"
      ],
      "metadata": {
        "colab": {
          "base_uri": "https://localhost:8080/"
        },
        "id": "RZ2XUIx2-wFm",
        "outputId": "bb1036bf-9d0b-4e13-d396-2cfd447175e8"
      },
      "execution_count": null,
      "outputs": [
        {
          "output_type": "stream",
          "name": "stdout",
          "text": [
            "['01.jpeg', '019.png', '010.png', '015.jpg', '012.jpeg', '02.jpeg', '040.jpeg', '041.jpeg', '046.jpeg', '020.jpg', '021.jpeg', '042.jpeg', '050.jpeg', '022.jpeg', '049.jpeg', '04.png', '025.jpeg', '033.png', '03.jpeg', '047.jpeg', '039.jpeg', '027.jpeg', '031.jpeg', '044.jpeg', '032.jpeg', '024.jpeg', '048.jpeg', '026.jpeg', '045.jpeg', '043.jpeg', 'COVID-00004.jpg', '052.jpeg', '09.png', '051.jpeg', 'COVID-00001.jpg', '08.jpeg', '080.jpg', '053.jpeg', '054.jpeg', '062.jpeg', '090.jpeg', 'COVID-00003b.jpg', '089.jpg', '084.jpeg', '056.jpg', 'COVID-00005.jpg', 'COVID-00002.jpg', '069.jpg', '06.jpeg', '061.jpg', '081.jpeg', '055.jpeg', '092.png', '065.jpeg', '079.jpeg', '059.jpeg', '085.jpeg', '072.jpeg', '088.jpeg', '073.jpg', '091.jpg', '076.jpg', '086.jpg', 'COVID-00003a.jpg', '057.jpeg', '067.jpg', '064.jpg', '07.jpg', '060.jpeg', '082.jpg', '058.jpeg', '074.jpg', '078.jpeg', '083.jpeg', '068.jpg', '071.jpg', 'COVID-00018.jpg', 'COVID-00009.jpg', 'COVID-00023.jpg', 'COVID-00016.jpg', 'COVID-00015a.png', 'COVID-00024.jpg', 'COVID-00017.jpg', 'COVID-00026.jpg', 'COVID-00019.jpg', 'COVID-00025.jpg', 'COVID-00022.jpg', 'COVID-00013a.jpg', 'COVID-00038.jpg', 'COVID-00011.jpg', 'COVID-00021.jpg', 'COVID-00030.jpg', 'COVID-00033.jpg', 'COVID-00029.jpg', 'COVID-00012.jpg', 'COVID-00013b.jpg', 'COVID-00036.jpg', 'COVID-00014.jpg', 'COVID-00037.jpg', 'COVID-00007.jpg', 'COVID-00034.jpg', 'COVID-00006.jpg', 'COVID-00020.jpg', 'COVID-00031.jpg', 'COVID-00010.jpg', 'COVID-00035.jpg', 'COVID-00032.jpg', 'COVID-00015b.png', 'COVID-00027.jpg', 'COVID-00028.jpg', 'COVID-00008.jpg']\n"
          ]
        }
      ]
    },
    {
      "cell_type": "code",
      "source": [
        "Ylist\n",
        "Y = np.array(Ylist)\n",
        "\n",
        "Y.shape\n",
        "print(Y)"
      ],
      "metadata": {
        "colab": {
          "base_uri": "https://localhost:8080/"
        },
        "id": "sZdnhdgEkj3S",
        "outputId": "5b7887db-a6a9-4115-8922-231a82863ee0"
      },
      "execution_count": null,
      "outputs": [
        {
          "output_type": "stream",
          "name": "stdout",
          "text": [
            "[[0 1]\n",
            " [0 1]\n",
            " [0 1]\n",
            " [0 1]\n",
            " [0 1]\n",
            " [0 1]\n",
            " [0 1]\n",
            " [0 1]\n",
            " [0 1]\n",
            " [0 1]\n",
            " [0 1]\n",
            " [0 1]\n",
            " [0 1]\n",
            " [0 1]\n",
            " [0 1]\n",
            " [0 1]\n",
            " [0 1]\n",
            " [0 1]\n",
            " [0 1]\n",
            " [0 1]\n",
            " [0 1]\n",
            " [0 1]\n",
            " [0 1]\n",
            " [0 1]\n",
            " [0 1]\n",
            " [0 1]\n",
            " [0 1]\n",
            " [0 1]\n",
            " [0 1]\n",
            " [0 1]\n",
            " [1 0]\n",
            " [0 1]\n",
            " [0 1]\n",
            " [0 1]\n",
            " [1 0]\n",
            " [0 1]\n",
            " [0 1]\n",
            " [0 1]\n",
            " [0 1]\n",
            " [0 1]\n",
            " [0 1]\n",
            " [1 0]\n",
            " [0 1]\n",
            " [0 1]\n",
            " [0 1]\n",
            " [1 0]\n",
            " [1 0]\n",
            " [0 1]\n",
            " [0 1]\n",
            " [0 1]\n",
            " [0 1]\n",
            " [0 1]\n",
            " [0 1]\n",
            " [0 1]\n",
            " [0 1]\n",
            " [0 1]\n",
            " [0 1]\n",
            " [0 1]\n",
            " [0 1]\n",
            " [0 1]\n",
            " [0 1]\n",
            " [0 1]\n",
            " [0 1]\n",
            " [1 0]\n",
            " [0 1]\n",
            " [0 1]\n",
            " [0 1]\n",
            " [0 1]\n",
            " [0 1]\n",
            " [0 1]\n",
            " [0 1]\n",
            " [0 1]\n",
            " [0 1]\n",
            " [0 1]\n",
            " [0 1]\n",
            " [0 1]\n",
            " [1 0]\n",
            " [1 0]\n",
            " [1 0]\n",
            " [1 0]\n",
            " [1 0]\n",
            " [1 0]\n",
            " [1 0]\n",
            " [1 0]\n",
            " [1 0]\n",
            " [1 0]\n",
            " [1 0]\n",
            " [1 0]\n",
            " [1 0]\n",
            " [1 0]\n",
            " [1 0]\n",
            " [1 0]\n",
            " [1 0]\n",
            " [1 0]\n",
            " [1 0]\n",
            " [1 0]\n",
            " [1 0]\n",
            " [1 0]\n",
            " [1 0]\n",
            " [1 0]\n",
            " [1 0]\n",
            " [1 0]\n",
            " [1 0]\n",
            " [1 0]\n",
            " [1 0]\n",
            " [1 0]\n",
            " [1 0]\n",
            " [1 0]\n",
            " [1 0]\n",
            " [1 0]\n",
            " [1 0]]\n"
          ]
        }
      ]
    },
    {
      "cell_type": "code",
      "source": [
        "img2 = PIL.Image.open(loc+'cuteAnimals/'+'pup3.jpg')"
      ],
      "metadata": {
        "id": "iEBtP5krkq-d"
      },
      "execution_count": null,
      "outputs": []
    },
    {
      "cell_type": "code",
      "source": [
        "input_shape = X[0].shape\n",
        "model = tf.keras.Sequential()\n",
        "\n",
        "model.add(tf.keras.layers.Dense(units=5,input_shape=input_shape, activation = 'relu'))\n",
        "model.add(tf.keras.layers.Flatten())\n",
        "model.add(tf.keras.layers.Dense(units=numCat, activation = 'softmax'))\n",
        "\n",
        "# after you create your model it's\n",
        "# always a good habit to print out it's summary\n",
        "model.summary()\n",
        "# adam optimizer works pretty well for\n",
        "# all kinds of problems and is a good starting point\n",
        "model.compile(optimizer=tf.keras.optimizers.Adam(learning_rate=0.01),\n",
        "              # MAE error is good for\n",
        "              # numerical predictions\n",
        "              loss=tf.keras.losses.CategoricalCrossentropy())\n",
        "losses = model.fit(X, Y,\n",
        "                  # it will use 'batch_size' number\n",
        "                  # of examples per example\n",
        "                  batch_size=256,\n",
        "                  epochs=3,  # total epoch\n",
        "                  )"
      ],
      "metadata": {
        "colab": {
          "base_uri": "https://localhost:8080/"
        },
        "id": "Tr7uMEDOkuJi",
        "outputId": "f7353072-29e7-4f62-fd45-f61b40e1f796"
      },
      "execution_count": null,
      "outputs": [
        {
          "output_type": "stream",
          "name": "stdout",
          "text": [
            "Model: \"sequential_1\"\n",
            "_________________________________________________________________\n",
            " Layer (type)                Output Shape              Param #   \n",
            "=================================================================\n",
            " dense_2 (Dense)             (None, 300, 300, 5)       20        \n",
            "                                                                 \n",
            " flatten_1 (Flatten)         (None, 450000)            0         \n",
            "                                                                 \n",
            " dense_3 (Dense)             (None, 2)                 900002    \n",
            "                                                                 \n",
            "=================================================================\n",
            "Total params: 900,022\n",
            "Trainable params: 900,022\n",
            "Non-trainable params: 0\n",
            "_________________________________________________________________\n",
            "Epoch 1/3\n",
            "1/1 [==============================] - 3s 3s/step - loss: 8.1627\n",
            "Epoch 2/3\n",
            "1/1 [==============================] - 1s 844ms/step - loss: 55013.0000\n",
            "Epoch 3/3\n",
            "1/1 [==============================] - 1s 804ms/step - loss: 3273.6033\n"
          ]
        }
      ]
    }
  ]
}